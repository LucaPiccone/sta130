{
 "cells": [
  {
   "cell_type": "markdown",
   "id": "6829f1ad-1d50-4208-b435-e710f609fdbb",
   "metadata": {},
   "source": [
    "UC Davis stats phd \n",
    "\n",
    "Machine Learning models provide more powerful \n",
    "\n",
    "Deep learning models mose powerful models. \n",
    "\n",
    "Stats phd is required to understand the more complex problems. \n",
    "\n",
    "multi-linear regression -> machine learning -> Deep learning. \n",
    "\n",
    "Deep learning a million multi linear regressions. \n",
    "\n",
    "## Multi Linear Regression\n",
    "*This is important fundamentals.\n",
    "\n",
    "courses at UC Davis \n",
    "* Sta130\n",
    "* Data Wrangling and sqlite. finding data from different datasets and combining them. \n",
    "* Cloud computing\n",
    "\n",
    "What is the final exam format?\n",
    "- Mideterm from fall 2023.\n",
    "- Different answers, different questions. \n",
    "\n",
    "We are using powerful models over multi-linear regression. \n",
    "Deep learning is big and complex, cost money, so currently not as complex as possible.\n",
    "Models make good prediction, but can't say why they make good predictions. You want to be able to interpret what the model is saying, that is why we need to understand multilinear regression. So we must understand multilinear regression if you want to understand your data.\n",
    "\n",
    "When you're working with categorical data, you may have choices. Simplify your analysis, for example: more than half a year, less than half a year, NA. \n",
    "\n",
    "DESIGN MATRIX\n",
    "MULTILEAR REGRESSION\n",
    "\n",
    "Formula version \n",
    "\n",
    "Import statesmodels.formula.api as smf\n",
    "-> we just say the name of what we want to use.\n",
    "-> statsmodels is like R for python\n",
    "\n",
    "scify.stats a collection of statistical distributions. statsmodels, is more like R.\n",
    "\n",
    "\n",
    "Prior (more than half a year of progreamming) vs (less than half a year) and how does that predict \n",
    "their outcome on the exam. \n",
    "\n",
    "No answer: \n",
    "Beginner: \n",
    "Experience: \n",
    "\n",
    "A binary variable: fall 24 or fall 23. That enters into a regression models as a binary variable. That indicator turns on if you're in the group the indicator is flagging. or else you're off. \n",
    "-> when you're being flagged, x is either 0 or 1. \n",
    "\n",
    "They're 3 levels. \n",
    "-> fall 23 / 24\n",
    "-> NA / t > 0.5 / t < 0.5"
   ]
  },
  {
   "cell_type": "markdown",
   "id": "979d09c1-3da6-478a-896f-7f1c04e6553c",
   "metadata": {},
   "source": [
    "Questions \n",
    "Do you know what happens when you have continuous and binary, or a non-binary categorical, or a continuous and categorical, or even more variables, or even interactions between some of your variables in a multivariate regression model? \n",
    "\n",
    "Can you start using model building to start exploring and searching through the course project data regressionlogistic regression? \n",
    "\n",
    "Optional, anonymous, and no points; but, do you wanna let us know what's up with with your bots in the Week 10 ChatBot Experience Survey, anyway? Many thanks to those who continue to provide us with their feedback. \n",
    "\n",
    "You can find my updated presentation of on the data we're collecting on piazzaLinks to an external site. if you'd like to see what is done with all your donations ;)\n",
    "\n",
    "\n",
    "How, when to apply topics. You must understand the fundamental of what is happening. "
   ]
  }
 ],
 "metadata": {
  "kernelspec": {
   "display_name": "Python 3 (ipykernel)",
   "language": "python",
   "name": "python3"
  },
  "language_info": {
   "codemirror_mode": {
    "name": "ipython",
    "version": 3
   },
   "file_extension": ".py",
   "mimetype": "text/x-python",
   "name": "python",
   "nbconvert_exporter": "python",
   "pygments_lexer": "ipython3",
   "version": "3.12.2"
  }
 },
 "nbformat": 4,
 "nbformat_minor": 5
}
