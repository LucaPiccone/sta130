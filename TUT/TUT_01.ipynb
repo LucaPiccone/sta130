{
 "cells": [
  {
   "cell_type": "code",
   "execution_count": 3,
   "id": "3c779c09",
   "metadata": {},
   "outputs": [
    {
     "name": "stdout",
     "output_type": "stream",
     "text": [
      "Requirement already satisfied: pandas in /opt/conda/lib/python3.11/site-packages (2.1.3)\n",
      "Requirement already satisfied: numpy<2,>=1.23.2 in /opt/conda/lib/python3.11/site-packages (from pandas) (1.24.4)\n",
      "Requirement already satisfied: python-dateutil>=2.8.2 in /opt/conda/lib/python3.11/site-packages (from pandas) (2.8.2)\n",
      "Requirement already satisfied: pytz>=2020.1 in /opt/conda/lib/python3.11/site-packages (from pandas) (2023.3.post1)\n",
      "Requirement already satisfied: tzdata>=2022.1 in /opt/conda/lib/python3.11/site-packages (from pandas) (2023.3)\n",
      "Requirement already satisfied: six>=1.5 in /opt/conda/lib/python3.11/site-packages (from python-dateutil>=2.8.2->pandas) (1.16.0)\n",
      "Note: you may need to restart the kernel to use updated packages.\n"
     ]
    }
   ],
   "source": [
    "pip install pandas"
   ]
  },
  {
   "cell_type": "code",
   "execution_count": 4,
   "id": "989931b3",
   "metadata": {},
   "outputs": [],
   "source": [
    "import pandas as pd"
   ]
  },
  {
   "cell_type": "code",
   "execution_count": 5,
   "id": "c0549665",
   "metadata": {},
   "outputs": [],
   "source": [
    "# This link was searched up.\n",
    "# Table data for https://github.com/cs109/2014_data/blob/master/mtcars.csv \n",
    "\n",
    "# url = 'https://raw.githubusercontent.com/cs109/2014_data/master/mtcars.csv'\n",
    "# url = 'https://raw.githubusercontent.com/rfordatascience/tidytuesday/master/data/2020/2020-05-05/villagers.csv'\n",
    "url = 'https://raw.githubusercontent.com/mwaskom/seaborn-data/master/titanic.csv'\n",
    "df = pd.read_csv(url)"
   ]
  },
  {
   "cell_type": "code",
   "execution_count": 6,
   "id": "80adf2fe",
   "metadata": {},
   "outputs": [],
   "source": [
    "missing_data = df.isna().sum()"
   ]
  },
  {
   "cell_type": "code",
   "execution_count": 9,
   "id": "c64d6631",
   "metadata": {},
   "outputs": [
    {
     "name": "stdout",
     "output_type": "stream",
     "text": [
      "survived         0\n",
      "pclass           0\n",
      "sex              0\n",
      "age            177\n",
      "sibsp            0\n",
      "parch            0\n",
      "fare             0\n",
      "embarked         2\n",
      "class            0\n",
      "who              0\n",
      "adult_male       0\n",
      "deck           688\n",
      "embark_town      2\n",
      "alive            0\n",
      "alone            0\n",
      "dtype: int64\n"
     ]
    }
   ],
   "source": [
    "print(missing_data)"
   ]
  },
  {
   "cell_type": "code",
   "execution_count": null,
   "id": "e44dbb88",
   "metadata": {},
   "outputs": [],
   "source": [
    "\"\"\"\n",
    "To summarize our interaction for submitting as part of your assignment, you asked for amusing datasets with missing values and accessible URLs. I suggested the Animal Crossing Villagers Dataset and the Titanic Dataset. You then asked me to provide the code to load the data and count missing values.\n",
    "Here is the final working version of the code we created:\n",
    "import pandas as pd\n",
    "\n",
    "# Choose one of the datasets below:\n",
    "\n",
    "# Animal Crossing Villagers Dataset\n",
    "your_file = pd.read_csv('https://raw.githubusercontent.com/rfordatascience/tidytuesday/master/data/2020/2020-05-05/villagers.csv') \n",
    "\n",
    "# Titanic Dataset\n",
    "# your_file = pd.read_csv('https://raw.githubusercontent.com/mwaskom/seaborn-data/master/titanic.csv') \n",
    "\n",
    "your_file.isna().sum() \n",
    "Explanation of the code:1.\n",
    "Import pandas: This line imports the pandas library, which is essential for working with dataframes in Python.2.\n",
    "Load the Dataset: You have two options for loading the dataset. Choose one and replace \"your_file.csv\" with your preferred name for the pandas DataFrame. The code then uses pd.read_csv to read the CSV file from the provided URL and store it in the variable you named.3.\n",
    "Count Missing Values: .isna().sum() is a common way to count missing data. .isna() checks for missing values in each cell of the DataFrame, returning True for missing and False for non-missing. .sum() then adds up the True values (which are treated as 1) in each column, giving you the total count of missing values per column.\n",
    "Remember to only run one of the data loading code blocks, otherwise your your_file variable will end up containing the data from the last code block you ran!\n",
    "\"\"\""
   ]
  }
 ],
 "metadata": {
  "kernelspec": {
   "display_name": "Python 3 (ipykernel)",
   "language": "python",
   "name": "python3"
  },
  "language_info": {
   "codemirror_mode": {
    "name": "ipython",
    "version": 3
   },
   "file_extension": ".py",
   "mimetype": "text/x-python",
   "name": "python",
   "nbconvert_exporter": "python",
   "pygments_lexer": "ipython3",
   "version": "3.12.2"
  }
 },
 "nbformat": 4,
 "nbformat_minor": 5
}
