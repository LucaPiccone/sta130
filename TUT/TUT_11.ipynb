{
 "cells": [
  {
   "cell_type": "markdown",
   "id": "d073648d-11fb-4767-b535-05cf05c71188",
   "metadata": {},
   "source": [
    "Confusion Matricies. \n",
    "True positives\n",
    "False positives\n",
    "True negativesd\n",
    "False negatives\n",
    "\n",
    "How good is your test at determining true positives and true negativies. A predictive machine learning model. \n",
    "\n",
    "True Positives (TP): 23 - The model correctly predicted the disease.\n",
    "False Negatives (FN): 7 - The model incorrectly predicted no disease when the disease was present.\n",
    "False Positives (FP): 90 - The model incorrectly predicted the disease when it was absent.\n",
    "True Negatives (TN): 280 - The model correctly predicted no disease.\n",
    "\n",
    "This would be a bad predicative model. because they're more false positives than true positives.\n",
    "\n",
    "Accuracy: comparing the total number of times the test was correct divided by the total number of tests. \n",
    "\n",
    "Specificity: Proportion of True negatives that are correctly identified \n",
    "- How good the test is at testing negative results\n",
    "\n",
    "Sensitivity: Proportion of True positives that are correctly identified\n",
    "- How good the test is at testing positive results.\n",
    "\n",
    "You have far fewer people with no disease than with disease. So specificity and sensitivity is more important. \n",
    "\n",
    "Type I error: Reject the null hypothesis when we should have not.\n",
    "Type II error: Fail to reject the null hypothesis when we should have.\n",
    "\n",
    "Lime disease is bad if it goes untreated, but we have to consider the impact of false positives and false negatives. itf someone with a false positive, gets treatment. If someone with a false positive gets chemo therapy it would be really bad. A false positive can be very bad. It is important to consider the context of the question. \n",
    "\n",
    "Doctor:\n",
    "- can be responsible for not getting someone treated\n",
    "  \n",
    "\n",
    "Patient is thinking about second opinion\n",
    "- Not being treated when they need to be treated\n",
    "- \n",
    "\n",
    "Health care system is consider cost. \n",
    "- being sueed\n",
    "- investing in better tests\n",
    "- paid for treatment who didn't need it\n",
    "- didn't treat someone who needed it.\n",
    "\n",
    "Unfairness and Bias: impacts of representational and historical bias:\n",
    "- BMI calssifies people as overweight if they're tall and muscular.\n",
    "\n",
    "Integrity and credibility: model explainability and transparency.\n",
    "- Decision making prophecies.\n",
    "\n",
    "An old model, education predicting income is not as good as it is now. People with no education, make more money these days so an old model is not very good now. Access to education has changed. \n",
    "\n",
    "IF a predicator variable is removed its effects are not removed from the predictive model.\n",
    "\n",
    "False Positive Rate = 1 - specificity \n",
    "\n",
    "Low Preicison"
   ]
  },
  {
   "cell_type": "code",
   "execution_count": null,
   "id": "7652dfb8-2792-4103-8b8c-3a8fbe67467e",
   "metadata": {},
   "outputs": [],
   "source": []
  }
 ],
 "metadata": {
  "kernelspec": {
   "display_name": "Python 3 (ipykernel)",
   "language": "python",
   "name": "python3"
  },
  "language_info": {
   "codemirror_mode": {
    "name": "ipython",
    "version": 3
   },
   "file_extension": ".py",
   "mimetype": "text/x-python",
   "name": "python",
   "nbconvert_exporter": "python",
   "pygments_lexer": "ipython3",
   "version": "3.12.2"
  }
 },
 "nbformat": 4,
 "nbformat_minor": 5
}
